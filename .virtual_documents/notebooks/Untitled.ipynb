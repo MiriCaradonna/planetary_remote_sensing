import sys
import os
import numpy as np
import matplotlib.pyplot as plt

#Add the src/radiation directory to the system path
sys.path.append(os.path.abspath(os.path.join('..', 'src', 'radiation')))

#Importing the Radiation class
from fundamentals import Radiation


#Creating an instance of the Radiation class
radiation = Radiation()


#using planck_function to plot the blackbody spectrum of the Sun

wavelength_Sun = np.linspace(10**-10, 10**-5, 100) #creating an array of wavelengths in meters 

temperature_Sun = 5778 #temperatue of the Sun in Kelvin
planck_func_Sun = radiation.planck_function(wavelength_Sun, temperature_Sun)

plt.plot(wavelength_Sun*1e6, planck_func_Sun, color = 'Red')


temperature_inv_Sun = radiation.planck_inv(wavelength_Sun, planck_func_Sun)
temperature_inv_Sun


#using planck_function to plot the blackbody spectrum of Earth

wavelength_Earth = np.linspace(10**-10, 10**-4, 100) #creating an array of wavelengths in meters 

temperature_Earth = 300 #temperatue of the Earth in Kelvin
planck_func_Earth = radiation.planck_function(wavelength_Earth, temperature_Earth)

plt.plot(wavelength_Earth*1e6, planck_func_Earth, color = 'Green')


temperature_inv_Earth = radiation.planck_inv(wavelength_Earth, planck_func_Earth)
temperature_inv_Earth


#using planck_function to plot the blackbody spectrum of Europa

wavelength_Europa = np.linspace(10**-10, 10**-3.5, 100) #creating an array of wavelengths in meters 

temperature_Europa = 100 #temperatue of the Sun in Kelvin
planck_func_Europa = radiation.planck_function(wavelength_Europa, temperature_Europa)

plt.plot(wavelength_Europa*1e6, planck_func_Europa, color = 'Blue')


temperature_inv_Europa = radiation.planck_inv(wavelength_Europa, planck_func_Europa)
temperature_inv_Europa



